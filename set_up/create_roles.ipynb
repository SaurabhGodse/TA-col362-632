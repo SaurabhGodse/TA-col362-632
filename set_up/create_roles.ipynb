{
 "cells": [
  {
   "cell_type": "code",
   "execution_count": 4,
   "metadata": {},
   "outputs": [],
   "source": [
    "import psycopg2\n",
    "import sys\n",
    "\n",
    "sys.path.append(\"..\")\n",
    "from config import SERVERS, CREDENTIALS\n",
    "from utils import group_IP"
   ]
  },
  {
   "cell_type": "code",
   "execution_count": 5,
   "metadata": {},
   "outputs": [],
   "source": [
    "QUERY = \"\"\"\n",
    "REVOKE USAGE, SELECT ON ALL SEQUENCES IN SCHEMA public FROM {group};\n",
    "REVOKE SELECT ON ALL TABLES IN SCHEMA public FROM {group};\n",
    "DROP USER IF EXISTS {group};\n",
    "CREATE USER {user} WITH PASSWORD \\'{pswd}\\';\n",
    "\"\"\""
   ]
  },
  {
   "cell_type": "code",
   "execution_count": 6,
   "metadata": {},
   "outputs": [],
   "source": [
    "def connect(ip):\n",
    "    print(\"Connecting to %s:5432\" % (ip))\n",
    "    try:\n",
    "        conn = psycopg2.connect(\n",
    "            user = \"postgres\",\n",
    "            host = ip,\n",
    "            port = \"5432\",\n",
    "            password = \"vpl-362\"\n",
    "        )\n",
    "        return conn\n",
    "    except:\n",
    "        print(\"Error connecting to postgres server at %s:5432\" % (ip))\n",
    "        return None\n",
    "    \n",
    "        \n",
    "        "
   ]
  },
  {
   "cell_type": "code",
   "execution_count": null,
   "metadata": {},
   "outputs": [
    {
     "name": "stdout",
     "output_type": "stream",
     "text": [
      "Connecting to 10.17.50.247:5432\n"
     ]
    }
   ],
   "source": [
    "if __name__== '__main__':\n",
    "    for group in CREDENTIALS.keys():\n",
    "        conn = connect(group_IP(group))\n",
    "        query = QUERY.format(group=group, pswd=CREDENTIALS[group])\n",
    "        print(query)\n",
    "        conn.autocommit = True\n",
    "        conn.cursor().execute(\"DROP DATABASE IF EXISTS {};\".format(group))\n",
    "        conn.commit()\n",
    "        conn.cursor().execute(query)\n",
    "        conn.commit()\n",
    "        conn.close()\n",
    "        \n",
    "        "
   ]
  }
 ],
 "metadata": {
  "kernelspec": {
   "display_name": "Python 3",
   "language": "python",
   "name": "python3"
  },
  "language_info": {
   "codemirror_mode": {
    "name": "ipython",
    "version": 3
   },
   "file_extension": ".py",
   "mimetype": "text/x-python",
   "name": "python",
   "nbconvert_exporter": "python",
   "pygments_lexer": "ipython3",
   "version": "3.6.5"
  }
 },
 "nbformat": 4,
 "nbformat_minor": 2
}
