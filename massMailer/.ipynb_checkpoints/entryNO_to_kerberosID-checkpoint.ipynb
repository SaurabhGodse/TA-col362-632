{
 "cells": [
  {
   "cell_type": "code",
   "execution_count": 4,
   "metadata": {},
   "outputs": [],
   "source": [
    "import csv"
   ]
  },
  {
   "cell_type": "code",
   "execution_count": 9,
   "metadata": {},
   "outputs": [],
   "source": [
    "def kerberosId(entryNO): # 2019MCS2574  mcs192574\n",
    "    kid = entryNO[4:7] + entryNO[2:4] +entryNO[7:]\n",
    "    return kid.lower()"
   ]
  },
  {
   "cell_type": "code",
   "execution_count": 10,
   "metadata": {},
   "outputs": [
    {
     "data": {
      "text/plain": [
       "'mcs192574'"
      ]
     },
     "execution_count": 10,
     "metadata": {},
     "output_type": "execute_result"
    }
   ],
   "source": []
  },
  {
   "cell_type": "code",
   "execution_count": 3,
   "metadata": {},
   "outputs": [
    {
     "name": "stdout",
     "output_type": "stream",
     "text": [
      "group_0  \n",
      "group_1  \n",
      "group_2  \n",
      "group_3  \n",
      "group_4  \n",
      "group_5  \n",
      "group_6  \n",
      "group_7  \n",
      "group_8  \n",
      "group_9  \n",
      "group_10 \n",
      "group_11 \n",
      "group_12 \n",
      "group_13 \n",
      "group_14 \n",
      "group_15 \n",
      "group_16 \n",
      "group_17 \n",
      "group_18 \n",
      "group_19 \n",
      "group_20 \n",
      "group_21 \n",
      "group_22 \n",
      "group_23 \n",
      "group_24 \n",
      "group_25 \n",
      "group_26 \n",
      "group_27 \n",
      "group_28 \n",
      "group_29 \n",
      "group_30 \n",
      "group_31 \n",
      "group_32 \n",
      "group_33 \n"
     ]
    }
   ],
   "source": [
    "with open(\"recipients.csv\") as grpinfo:\n",
    "    reader =csv.reader(grpinfo)\n",
    "    \n",
    "    #skip the header of csv \n",
    "    next(reader)\n",
    "    \n",
    "    for groups in reader:\n",
    "        print(rows[0])"
   ]
  },
  {
   "cell_type": "code",
   "execution_count": null,
   "metadata": {},
   "outputs": [],
   "source": []
  }
 ],
 "metadata": {
  "kernelspec": {
   "display_name": "Python 3",
   "language": "python",
   "name": "python3"
  },
  "language_info": {
   "codemirror_mode": {
    "name": "ipython",
    "version": 3
   },
   "file_extension": ".py",
   "mimetype": "text/x-python",
   "name": "python",
   "nbconvert_exporter": "python",
   "pygments_lexer": "ipython3",
   "version": "3.6.5"
  }
 },
 "nbformat": 4,
 "nbformat_minor": 2
}
