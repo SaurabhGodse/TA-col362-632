{
 "cells": [
  {
   "cell_type": "code",
   "execution_count": 12,
   "metadata": {},
   "outputs": [],
   "source": [
    "import csv\n",
    "import smtplib\n",
    "import sys\n",
    "sys.path.append(\"..\")\n",
    "from config import *\n",
    "from utils import group_IP\n",
    "from email.mime.text import MIMEText"
   ]
  },
  {
   "cell_type": "code",
   "execution_count": 13,
   "metadata": {},
   "outputs": [],
   "source": [
    "SUBJECT = \"COL362/632 Project 1 credentials\""
   ]
  },
  {
   "cell_type": "code",
   "execution_count": 14,
   "metadata": {},
   "outputs": [],
   "source": [
    "def setup_connections(sender):\n",
    "    \"\"\"\n",
    "    Establish connection with the smtp server\n",
    "    \"\"\"\n",
    "    smtp = smtplib.SMTP(SMTP_SERVER)\n",
    "    user = sender[\"uname\"]\n",
    "    password = sender[\"pswd\"]\n",
    "    smtp.starttls()\n",
    "    smtp.login(user, password)\n",
    "    return smtp\n"
   ]
  },
  {
   "cell_type": "code",
   "execution_count": 15,
   "metadata": {},
   "outputs": [],
   "source": [
    "def kerberosId(entryNO): # 2019MCS2574  mcs192574\n",
    "    kid = entryNO[4:7] + entryNO[2:4] +entryNO[7:]\n",
    "    return kid.lower()"
   ]
  },
  {
   "cell_type": "code",
   "execution_count": null,
   "metadata": {},
   "outputs": [],
   "source": [
    "if __name__=\"__main__\":\n",
    "    conn = setup_connection(SENDER)\n",
    "    with open(RECIPIENTS_FILE) as recepients_file:\n",
    "        reader = csv.reader(recepients_file)\n",
    "        next(reader)\n",
    "        for row in reader:\n",
    "            group = row[0].strip()\n",
    "            names = [each.strip() for each in row[1 : -1 : 2] if each.strip()]\n",
    "            entry_numbers = [each.strip() for each in row[2 : -1 : 2] if each.strip()]\n",
    "            if group not in CREDENTIALS:\n",
    "                print(\"Credentials for {} does not exists\".format(group))\n",
    "            else:\n",
    "                # to email each  group\n",
    "                to_list = [kerberosId(en) + MAIL_SERVER for en in entry_numbers]\n",
    "                \n",
    "                host = group_IP(group)\n",
    "                portal_url = host +\":5000\"\n",
    "                body = EMAIL_TEMPLATE.format(\n",
    "                    uname = group,\n",
    "                    pswd = CREDENTIALS[group],\n",
    "                    members = \", \".join(names)\n",
    "                    url = portal_url\n",
    "                    host = host\n",
    "                )\n",
    "                msg = MIMEText(body)\n",
    "                msg['Subject'] = SUBJECT\n",
    "                msg['From'] = SENDER['email']\n",
    "                msg['To'] = \", \".join(to_list)\n",
    "                print(\"Sending credentials to {}\".format(msg['To']))\n",
    "                print(msg.as_string())\n",
    "                conn.sendmail(SENDER['email'], to_list, msg.as_string())\n",
    "                \n",
    "                \n",
    "                "
   ]
  }
 ],
 "metadata": {
  "kernelspec": {
   "display_name": "Python 3",
   "language": "python",
   "name": "python3"
  },
  "language_info": {
   "codemirror_mode": {
    "name": "ipython",
    "version": 3
   },
   "file_extension": ".py",
   "mimetype": "text/x-python",
   "name": "python",
   "nbconvert_exporter": "python",
   "pygments_lexer": "ipython3",
   "version": "3.6.5"
  }
 },
 "nbformat": 4,
 "nbformat_minor": 2
}
