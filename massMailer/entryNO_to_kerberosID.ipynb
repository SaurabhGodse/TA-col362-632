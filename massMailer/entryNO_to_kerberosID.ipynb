{
 "cells": [
  {
   "cell_type": "code",
   "execution_count": 1,
   "metadata": {},
   "outputs": [],
   "source": [
    "import csv"
   ]
  },
  {
   "cell_type": "code",
   "execution_count": 15,
   "metadata": {},
   "outputs": [],
   "source": [
    "def kerberosId(entryNO): # 2019MCS2574  mcs192574\n",
    "    kid = entryNO[4:7] + entryNO[2:4] +entryNO[7:]\n",
    "    return kid.lower()"
   ]
  },
  {
   "cell_type": "code",
   "execution_count": 20,
   "metadata": {},
   "outputs": [
    {
     "name": "stdout",
     "output_type": "stream",
     "text": [
      "['me2160764', 'ph1160549', 'mt6150561', 'cs1160347', 'cs1160362', 'tt1170922', 'cs1170331', 'cs1160344', 'cs1160352', 'cs1160360', 'ee1160442', 'ee1160835', 'ch1160099', 'mt6160645', 'cs5160394', 'ee1160460', 'ee1170437', 'cs1170382', 'ee1160431', 'ch1160097', 'cs1160340', 'ee1170445', 'me1160683', 'cs1160332', 'ce1170089', 'me2160760', 'ch1160085', 'cs1160337', 'cs1160339', 'cs5160393', 'ee1160443', 'tt1160868', 'cs1170387', 'me2160795', 'cs5140285', 'ee1160437', 'ch1160098', 'cs5170405', 'tt1170925', 'ee3160769', 'cs5160404', 'cs1160366', 'cs5160397', 'cs1170368', 'ce1160237', 'cs1170338', 'cs5170404', 'cs5170413', 'cs5160399', 'cs1170219', 'cs1170335', 'me1160702', 'ch7160156', 'cs5160403', 'cs5170414', 'cs1170358', 'mt5120605', 'cs1170372', 'cs5150297', 'cs1160343', 'cs1160356', 'cs1170343', 'cs1160310', 'cs1160323', 'cs1170341', 'ee1170461', 'cs1170373', 'me2160774', 'mt1160622', 'ch1160113', 'cs1170369', 'me2160796', 'cs1160367', 'cs1170359', 'cs1170503', 'cs1160345', 'cs1170385', 'cs5160402', 'cs5160392', 'me2160768', 'cs1160333', 'cs1160354', 'mt6160659', 'ee1170306', 'cs5170406', 'mt6160655', 'cs1170374', 'me2160771', 'cs1150205', 'cs5160389', 'mt6150558', 'mt5110600', 'cs1170334', 'cs5180412', 'cs1160372', 'cs5160388', 'me1160080', 'mt6160660', 'cs1170390', 'cs1170340', 'me1160830', 'mt1160637', 'cs1170339', 'cs1160363', 'ch1170243', 'ch1160074', 'cs1170327', 'cs1150227', 'cs1170346', 'cs5150283']\n"
     ]
    }
   ],
   "source": [
    "student_list = []\n",
    "with open(\"student_details.csv\") as studdetails:\n",
    "    reader = csv.reader(studdetails)\n",
    "    next(reader)\n",
    "    for row in reader:\n",
    "        student_list.append(row[5].split(\"@\")[0])\n",
    "print(student_list)\n",
    "# with open(\"recipients.csv\") as grpinfo:\n",
    "#     reader =csv.reader(grpinfo)\n",
    "    \n",
    "#     #skip the header of csv \n",
    "#     next(reader)\n",
    "    \n",
    "#     for row in reader:\n",
    "#         mailids = \"\"\n",
    "#         for eno in (row[2], row[4], row[6]):\n",
    "#             if not eno:\n",
    "#                 continue\n",
    "#             else:\n",
    "#                 mailid = kerberosId(eno)\n",
    "#                 if mailid not in lst:\n",
    "#                     print(\"wrong entry number : \", eno)\n",
    "                    \n",
    "            \n",
    "    \n",
    "    \n",
    "    \n"
   ]
  },
  {
   "cell_type": "code",
   "execution_count": null,
   "metadata": {},
   "outputs": [],
   "source": []
  }
 ],
 "metadata": {
  "kernelspec": {
   "display_name": "Python 3",
   "language": "python",
   "name": "python3"
  },
  "language_info": {
   "codemirror_mode": {
    "name": "ipython",
    "version": 3
   },
   "file_extension": ".py",
   "mimetype": "text/x-python",
   "name": "python",
   "nbconvert_exporter": "python",
   "pygments_lexer": "ipython3",
   "version": "3.6.5"
  }
 },
 "nbformat": 4,
 "nbformat_minor": 2
}
