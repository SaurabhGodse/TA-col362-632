{
 "cells": [
  {
   "cell_type": "code",
   "execution_count": 15,
   "metadata": {},
   "outputs": [],
   "source": [
    "import csv"
   ]
  },
  {
   "cell_type": "code",
   "execution_count": 18,
   "metadata": {},
   "outputs": [],
   "source": [
    "def kerberosId(entryNO): # 2019MCS2574  mcs192574\n",
    "    kid = entryNO[4:7] + entryNO[2:4] +entryNO[7:]\n",
    "    return kid.lower()"
   ]
  },
  {
   "cell_type": "code",
   "execution_count": 19,
   "metadata": {},
   "outputs": [],
   "source": [
    "student_list = []\n",
    "with open(\"students_details .csv\") as studdetails:\n",
    "    reader = csv.reader(studdetails)\n",
    "    next(reader)\n",
    "    for row in reader:\n",
    "        student_list.append(row[5].split(\"@\")[0])\n",
    "\n",
    "with open(\"recipients.csv\") as grpinfo:\n",
    "    reader =csv.reader(grpinfo)\n",
    "    \n",
    "    #skip the header of csv \n",
    "    next(reader)\n",
    "    \n",
    "    for row in reader:\n",
    "        mailids = \"\"\n",
    "        for eno in (row[2], row[4], row[6]):\n",
    "            if not eno:\n",
    "                continue\n",
    "            else:\n",
    "                mailid = kerberosId(eno)\n",
    "                # to detect any invlaid EntryNumber \n",
    "                if mailid not in student_list:\n",
    "                    print(\"wrong entry number : \", eno)\n",
    "                else:\n",
    "                    continue\n",
    "                    \n",
    "            \n",
    "    \n",
    "    \n",
    "    \n"
   ]
  },
  {
   "cell_type": "code",
   "execution_count": null,
   "metadata": {},
   "outputs": [],
   "source": []
  }
 ],
 "metadata": {
  "kernelspec": {
   "display_name": "Python 3",
   "language": "python",
   "name": "python3"
  },
  "language_info": {
   "codemirror_mode": {
    "name": "ipython",
    "version": 3
   },
   "file_extension": ".py",
   "mimetype": "text/x-python",
   "name": "python",
   "nbconvert_exporter": "python",
   "pygments_lexer": "ipython3",
   "version": "3.6.5"
  }
 },
 "nbformat": 4,
 "nbformat_minor": 2
}
